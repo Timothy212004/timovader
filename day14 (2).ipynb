{
 "cells": [
  {
   "cell_type": "code",
   "execution_count": 1,
   "id": "fd54a5b7",
   "metadata": {},
   "outputs": [],
   "source": [
    "import pymysql"
   ]
  },
  {
   "cell_type": "code",
   "execution_count": 5,
   "id": "58c3cd0d",
   "metadata": {},
   "outputs": [
    {
     "data": {
      "text/plain": [
       "1"
      ]
     },
     "execution_count": 5,
     "metadata": {},
     "output_type": "execute_result"
    }
   ],
   "source": [
    "mydb = pymysql.connect(\n",
    "     host = 'localhost',\n",
    "     user = 'root',\n",
    "     password = '212004'\n",
    ")\n",
    "mycursor = mydb.cursor()\n",
    "mycursor.execute('create database schoolmanagementsystem')\n"
   ]
  },
  {
   "cell_type": "code",
   "execution_count": 7,
   "id": "1482d7ef",
   "metadata": {},
   "outputs": [],
   "source": [
    "mydb = pymysql.connect(\n",
    "     host = 'localhost',\n",
    "     user = 'root',\n",
    "     password = '212004',\n",
    "     database = 'schoolmanagementsystem'\n",
    ")\n",
    "mycursor = mydb.cursor()\n"
   ]
  },
  {
   "cell_type": "code",
   "execution_count": 17,
   "id": "4bcd5c2a",
   "metadata": {},
   "outputs": [],
   "source": [
    "#mycursor.execute('create table staffable(id int not null primary key,staffname text not null, staffgender text not null, staffaddress text not null,staffcontact text not null,classteacher text not null)')\n",
    "#mycursor.execute('create table studentable(id int not null primary key,sname text not null,age int not null,gender text not null, address text not null, class text not null)')\n",
    "#mycursor.execute('create table librarytable(bookid int not null primary key,bname text not null,class text not null)')"
   ]
  },
  {
   "cell_type": "code",
   "execution_count": 26,
   "id": "013d80ee",
   "metadata": {},
   "outputs": [
    {
     "name": "stdout",
     "output_type": "stream",
     "text": [
      "(1, 'Ada Ego', 18, 'F', 'FCT', 'Primary 2')\n",
      "(4, 'Cesa Dosa', 17, 'F', 'EDO', 'Primary 4')\n",
      "(5, 'Dotun Bella', 19, 'F', 'KADUNA', 'Primary 6')\n",
      "(6, 'Deji Chuchi', 18, 'F', 'KANO', 'Primary 4')\n",
      "(7, 'Reachel Asily', 14, 'F', 'DELTA', 'Primary 3')\n",
      "(8, 'Yero Wakil', 15, 'M', 'IMO', 'Primary 2')\n",
      "(9, 'Amaka Nnaka', 17, 'F', 'ANAMBRA', 'Primary 1')\n"
     ]
    }
   ],
   "source": [
    "mycursor.execute('select *  from studentable where gender =\"F\" or class=\"primary 2\"')\n",
    "for x in mycursor:\n",
    "    print(x)\n"
   ]
  },
  {
   "cell_type": "code",
   "execution_count": 29,
   "id": "f39c8fb0",
   "metadata": {},
   "outputs": [
    {
     "name": "stdout",
     "output_type": "stream",
     "text": [
      "(6, 'Deji Chuchi', 18, 'F', 'KANO', 'Primary 4')\n"
     ]
    }
   ],
   "source": [
    "mycursor.execute('select *  from studentable where sname like \"%i\"')\n",
    "for x in mycursor:\n",
    "    print(x)\n"
   ]
  },
  {
   "cell_type": "code",
   "execution_count": 30,
   "id": "cc01547e",
   "metadata": {},
   "outputs": [
    {
     "name": "stdout",
     "output_type": "stream",
     "text": [
      "(1, 'Ada Ego', 18, 'F', 'FCT', 'Primary 2')\n"
     ]
    }
   ],
   "source": [
    "mycursor.execute('select *  from studentable where sname like \"Ad%\"')\n",
    "for x in mycursor:\n",
    "    print(x)\n"
   ]
  },
  {
   "cell_type": "code",
   "execution_count": 34,
   "id": "a5b74213",
   "metadata": {},
   "outputs": [
    {
     "name": "stdout",
     "output_type": "stream",
     "text": [
      "(1, 'Ada Ego', 18, 'F', 'FCT', 'Primary 2')\n",
      "(7, 'Reachel Asily', 14, 'F', 'DELTA', 'Primary 3')\n",
      "(9, 'Amaka Nnaka', 17, 'F', 'ANAMBRA', 'Primary 1')\n"
     ]
    }
   ],
   "source": [
    "mycursor.execute('select *  from studentable where sname like \"__a%\"')\n",
    "for x in mycursor:\n",
    "    print(x)\n"
   ]
  },
  {
   "cell_type": "code",
   "execution_count": 35,
   "id": "60e13c0b",
   "metadata": {},
   "outputs": [
    {
     "name": "stdout",
     "output_type": "stream",
     "text": [
      "(1, 'Ada Ego', 18, 'F', 'FCT', 'Primary 2')\n",
      "(3, 'Ekis Elop', 14, 'M', 'LAGOS', 'Primary 4')\n",
      "(4, 'Cesa Dosa', 17, 'F', 'EDO', 'Primary 4')\n",
      "(6, 'Deji Chuchi', 18, 'F', 'KANO', 'Primary 4')\n",
      "(8, 'Yero Wakil', 15, 'M', 'IMO', 'Primary 2')\n"
     ]
    }
   ],
   "source": [
    "mycursor.execute('select *  from studentable where class in (\"primary 2\",\"primary 4\")')\n",
    "for x in mycursor:\n",
    "    print(x)\n"
   ]
  },
  {
   "cell_type": "code",
   "execution_count": 36,
   "id": "24499129",
   "metadata": {},
   "outputs": [
    {
     "name": "stdout",
     "output_type": "stream",
     "text": [
      "(1, 'Ada Ego', 18, 'F', 'FCT', 'Primary 2')\n",
      "(2, 'Famil Mono', 13, 'M', 'KOGI', 'Primary 3')\n",
      "(3, 'Ekis Elop', 14, 'M', 'LAGOS', 'Primary 4')\n",
      "(4, 'Cesa Dosa', 17, 'F', 'EDO', 'Primary 4')\n",
      "(5, 'Dotun Bella', 19, 'F', 'KADUNA', 'Primary 6')\n",
      "(6, 'Deji Chuchi', 18, 'F', 'KANO', 'Primary 4')\n",
      "(7, 'Reachel Asily', 14, 'F', 'DELTA', 'Primary 3')\n",
      "(8, 'Yero Wakil', 15, 'M', 'IMO', 'Primary 2')\n",
      "(9, 'Amaka Nnaka', 17, 'F', 'ANAMBRA', 'Primary 1')\n",
      "(10, 'Cocok Dallas', 19, 'M', 'RIVERS', 'Primary 3')\n"
     ]
    }
   ],
   "source": [
    "mycursor.execute('select *  from studentable where class is not null')\n",
    "for x in mycursor:\n",
    "    print(x)\n"
   ]
  },
  {
   "cell_type": "code",
   "execution_count": 37,
   "id": "f37d8c7f",
   "metadata": {},
   "outputs": [
    {
     "name": "stdout",
     "output_type": "stream",
     "text": [
      "(2, 'Famil Mono', 13, 'M', 'KOGI', 'Primary 3')\n",
      "(3, 'Ekis Elop', 14, 'M', 'LAGOS', 'Primary 4')\n",
      "(7, 'Reachel Asily', 14, 'F', 'DELTA', 'Primary 3')\n",
      "(8, 'Yero Wakil', 15, 'M', 'IMO', 'Primary 2')\n"
     ]
    }
   ],
   "source": [
    "mycursor.execute('select *  from studentable where age between 13 and 15')\n",
    "for x in mycursor:\n",
    "    print(x)\n"
   ]
  },
  {
   "cell_type": "code",
   "execution_count": 44,
   "id": "e2f88dbb",
   "metadata": {},
   "outputs": [
    {
     "name": "stdout",
     "output_type": "stream",
     "text": [
      "('Ada Ego', 18, 'Primary 2', 'Eky Imasi', 'Primary 2')\n",
      "('Famil Mono', 13, 'Primary 3', 'Ernest Chuks', 'Head Teacher')\n",
      "('Ekis Elop', 14, 'Primary 4', 'Amaka Emaka', 'Primary 3')\n",
      "('Cesa Dosa', 17, 'Primary 4', 'Joy Kess', 'Cleaner')\n",
      "('Dotun Bella', 19, 'Primary 6', 'Kelly Roy', 'Security')\n",
      "('Deji Chuchi', 18, 'Primary 4', 'Samsom Lobi', 'Non-Academic')\n",
      "('Reachel Asily', 14, 'Primary 3', 'Daddy Mummy', 'Primary 5')\n",
      "('Yero Wakil', 15, 'Primary 2', 'Elo Swag', 'Primary 1')\n",
      "('Amaka Nnaka', 17, 'Primary 1', 'Phyna Aki', 'Primary 6')\n",
      "('Cocok Dallas', 19, 'Primary 3', 'Wasiri Khahil', 'Primary 4')\n"
     ]
    }
   ],
   "source": [
    "mycursor.execute('select studentable.sname,studentable.age, studentable.class, staffable.staffname, staffable.classteacher from studentable inner join staffable on studentable.id = staffable.id')\n",
    "for x in mycursor:\n",
    "    print(x)"
   ]
  },
  {
   "cell_type": "code",
   "execution_count": 53,
   "id": "aad6c0df",
   "metadata": {},
   "outputs": [
    {
     "name": "stdout",
     "output_type": "stream",
     "text": [
      "('Ada Ego', 18, 'Primary 2', 'Eky Imasi', 'Primary 2')\n",
      "('Famil Mono', 13, 'Primary 3', 'Ernest Chuks', 'Head Teacher')\n",
      "('Ekis Elop', 14, 'Primary 4', 'Amaka Emaka', 'Primary 3')\n",
      "('Cesa Dosa', 17, 'Primary 4', 'Joy Kess', 'Cleaner')\n",
      "('Dotun Bella', 19, 'Primary 6', 'Kelly Roy', 'Security')\n",
      "('Deji Chuchi', 18, 'Primary 4', 'Samsom Lobi', 'Non-Academic')\n",
      "('Reachel Asily', 14, 'Primary 3', 'Daddy Mummy', 'Primary 5')\n",
      "('Yero Wakil', 15, 'Primary 2', 'Elo Swag', 'Primary 1')\n",
      "('Amaka Nnaka', 17, 'Primary 1', 'Phyna Aki', 'Primary 6')\n",
      "('Cocok Dallas', 19, 'Primary 3', 'Wasiri Khahil', 'Primary 4')\n"
     ]
    }
   ],
   "source": [
    "mycursor.execute('select studentable.sname,studentable.age, studentable.class, staffable.staffname, staffable.classteacher from studentable right outer join staffable on studentable.id = staffable.id')\n",
    "for x in mycursor:\n",
    "    print(x)"
   ]
  },
  {
   "cell_type": "code",
   "execution_count": 50,
   "id": "7e965dc4",
   "metadata": {},
   "outputs": [
    {
     "name": "stdout",
     "output_type": "stream",
     "text": [
      "('Cocok Dallas', 19, 'Eky Imasi')\n",
      "('Amaka Nnaka', 17, 'Eky Imasi')\n",
      "('Yero Wakil', 15, 'Eky Imasi')\n",
      "('Reachel Asily', 14, 'Eky Imasi')\n",
      "('Deji Chuchi', 18, 'Eky Imasi')\n",
      "('Dotun Bella', 19, 'Eky Imasi')\n",
      "('Cesa Dosa', 17, 'Eky Imasi')\n",
      "('Ekis Elop', 14, 'Eky Imasi')\n",
      "('Famil Mono', 13, 'Eky Imasi')\n",
      "('Ada Ego', 18, 'Eky Imasi')\n",
      "('Cocok Dallas', 19, 'Ernest Chuks')\n",
      "('Amaka Nnaka', 17, 'Ernest Chuks')\n",
      "('Yero Wakil', 15, 'Ernest Chuks')\n",
      "('Reachel Asily', 14, 'Ernest Chuks')\n",
      "('Deji Chuchi', 18, 'Ernest Chuks')\n",
      "('Dotun Bella', 19, 'Ernest Chuks')\n",
      "('Cesa Dosa', 17, 'Ernest Chuks')\n",
      "('Ekis Elop', 14, 'Ernest Chuks')\n",
      "('Famil Mono', 13, 'Ernest Chuks')\n",
      "('Ada Ego', 18, 'Ernest Chuks')\n",
      "('Cocok Dallas', 19, 'Amaka Emaka')\n",
      "('Amaka Nnaka', 17, 'Amaka Emaka')\n",
      "('Yero Wakil', 15, 'Amaka Emaka')\n",
      "('Reachel Asily', 14, 'Amaka Emaka')\n",
      "('Deji Chuchi', 18, 'Amaka Emaka')\n",
      "('Dotun Bella', 19, 'Amaka Emaka')\n",
      "('Cesa Dosa', 17, 'Amaka Emaka')\n",
      "('Ekis Elop', 14, 'Amaka Emaka')\n",
      "('Famil Mono', 13, 'Amaka Emaka')\n",
      "('Ada Ego', 18, 'Amaka Emaka')\n",
      "('Cocok Dallas', 19, 'Joy Kess')\n",
      "('Amaka Nnaka', 17, 'Joy Kess')\n",
      "('Yero Wakil', 15, 'Joy Kess')\n",
      "('Reachel Asily', 14, 'Joy Kess')\n",
      "('Deji Chuchi', 18, 'Joy Kess')\n",
      "('Dotun Bella', 19, 'Joy Kess')\n",
      "('Cesa Dosa', 17, 'Joy Kess')\n",
      "('Ekis Elop', 14, 'Joy Kess')\n",
      "('Famil Mono', 13, 'Joy Kess')\n",
      "('Ada Ego', 18, 'Joy Kess')\n",
      "('Cocok Dallas', 19, 'Kelly Roy')\n",
      "('Amaka Nnaka', 17, 'Kelly Roy')\n",
      "('Yero Wakil', 15, 'Kelly Roy')\n",
      "('Reachel Asily', 14, 'Kelly Roy')\n",
      "('Deji Chuchi', 18, 'Kelly Roy')\n",
      "('Dotun Bella', 19, 'Kelly Roy')\n",
      "('Cesa Dosa', 17, 'Kelly Roy')\n",
      "('Ekis Elop', 14, 'Kelly Roy')\n",
      "('Famil Mono', 13, 'Kelly Roy')\n",
      "('Ada Ego', 18, 'Kelly Roy')\n",
      "('Cocok Dallas', 19, 'Samsom Lobi')\n",
      "('Amaka Nnaka', 17, 'Samsom Lobi')\n",
      "('Yero Wakil', 15, 'Samsom Lobi')\n",
      "('Reachel Asily', 14, 'Samsom Lobi')\n",
      "('Deji Chuchi', 18, 'Samsom Lobi')\n",
      "('Dotun Bella', 19, 'Samsom Lobi')\n",
      "('Cesa Dosa', 17, 'Samsom Lobi')\n",
      "('Ekis Elop', 14, 'Samsom Lobi')\n",
      "('Famil Mono', 13, 'Samsom Lobi')\n",
      "('Ada Ego', 18, 'Samsom Lobi')\n",
      "('Cocok Dallas', 19, 'Daddy Mummy')\n",
      "('Amaka Nnaka', 17, 'Daddy Mummy')\n",
      "('Yero Wakil', 15, 'Daddy Mummy')\n",
      "('Reachel Asily', 14, 'Daddy Mummy')\n",
      "('Deji Chuchi', 18, 'Daddy Mummy')\n",
      "('Dotun Bella', 19, 'Daddy Mummy')\n",
      "('Cesa Dosa', 17, 'Daddy Mummy')\n",
      "('Ekis Elop', 14, 'Daddy Mummy')\n",
      "('Famil Mono', 13, 'Daddy Mummy')\n",
      "('Ada Ego', 18, 'Daddy Mummy')\n",
      "('Cocok Dallas', 19, 'Elo Swag')\n",
      "('Amaka Nnaka', 17, 'Elo Swag')\n",
      "('Yero Wakil', 15, 'Elo Swag')\n",
      "('Reachel Asily', 14, 'Elo Swag')\n",
      "('Deji Chuchi', 18, 'Elo Swag')\n",
      "('Dotun Bella', 19, 'Elo Swag')\n",
      "('Cesa Dosa', 17, 'Elo Swag')\n",
      "('Ekis Elop', 14, 'Elo Swag')\n",
      "('Famil Mono', 13, 'Elo Swag')\n",
      "('Ada Ego', 18, 'Elo Swag')\n",
      "('Cocok Dallas', 19, 'Phyna Aki')\n",
      "('Amaka Nnaka', 17, 'Phyna Aki')\n",
      "('Yero Wakil', 15, 'Phyna Aki')\n",
      "('Reachel Asily', 14, 'Phyna Aki')\n",
      "('Deji Chuchi', 18, 'Phyna Aki')\n",
      "('Dotun Bella', 19, 'Phyna Aki')\n",
      "('Cesa Dosa', 17, 'Phyna Aki')\n",
      "('Ekis Elop', 14, 'Phyna Aki')\n",
      "('Famil Mono', 13, 'Phyna Aki')\n",
      "('Ada Ego', 18, 'Phyna Aki')\n",
      "('Cocok Dallas', 19, 'Wasiri Khahil')\n",
      "('Amaka Nnaka', 17, 'Wasiri Khahil')\n",
      "('Yero Wakil', 15, 'Wasiri Khahil')\n",
      "('Reachel Asily', 14, 'Wasiri Khahil')\n",
      "('Deji Chuchi', 18, 'Wasiri Khahil')\n",
      "('Dotun Bella', 19, 'Wasiri Khahil')\n",
      "('Cesa Dosa', 17, 'Wasiri Khahil')\n",
      "('Ekis Elop', 14, 'Wasiri Khahil')\n",
      "('Famil Mono', 13, 'Wasiri Khahil')\n",
      "('Ada Ego', 18, 'Wasiri Khahil')\n"
     ]
    }
   ],
   "source": [
    "mycursor.execute('select sname,age,staffname from studentable cross join staffable')\n",
    "for x in mycursor:\n",
    "    print(x)"
   ]
  },
  {
   "cell_type": "code",
   "execution_count": 54,
   "id": "6f1cfa88",
   "metadata": {},
   "outputs": [
    {
     "name": "stdout",
     "output_type": "stream",
     "text": [
      "('Ada Ego', 18, 'Primary 2', 'Eky Imasi', 'Primary 2')\n",
      "('Famil Mono', 13, 'Primary 3', 'Ernest Chuks', 'Head Teacher')\n",
      "('Ekis Elop', 14, 'Primary 4', 'Amaka Emaka', 'Primary 3')\n",
      "('Cesa Dosa', 17, 'Primary 4', 'Joy Kess', 'Cleaner')\n",
      "('Dotun Bella', 19, 'Primary 6', 'Kelly Roy', 'Security')\n",
      "('Deji Chuchi', 18, 'Primary 4', 'Samsom Lobi', 'Non-Academic')\n",
      "('Reachel Asily', 14, 'Primary 3', 'Daddy Mummy', 'Primary 5')\n",
      "('Yero Wakil', 15, 'Primary 2', 'Elo Swag', 'Primary 1')\n",
      "('Amaka Nnaka', 17, 'Primary 1', 'Phyna Aki', 'Primary 6')\n",
      "('Cocok Dallas', 19, 'Primary 3', 'Wasiri Khahil', 'Primary 4')\n"
     ]
    }
   ],
   "source": [
    "mycursor.execute('select studentable.sname,studentable.age, studentable.class, staffable.staffname, staffable.classteacher from studentable left outer join staffable on studentable.id = staffable.id')\n",
    "for x in mycursor:\n",
    "    print(x)"
   ]
  },
  {
   "cell_type": "code",
   "execution_count": null,
   "id": "1bce7280",
   "metadata": {},
   "outputs": [],
   "source": []
  }
 ],
 "metadata": {
  "kernelspec": {
   "display_name": "Python 3 (ipykernel)",
   "language": "python",
   "name": "python3"
  },
  "language_info": {
   "codemirror_mode": {
    "name": "ipython",
    "version": 3
   },
   "file_extension": ".py",
   "mimetype": "text/x-python",
   "name": "python",
   "nbconvert_exporter": "python",
   "pygments_lexer": "ipython3",
   "version": "3.9.12"
  }
 },
 "nbformat": 4,
 "nbformat_minor": 5
}
