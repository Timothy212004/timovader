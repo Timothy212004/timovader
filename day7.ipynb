{
 "cells": [
  {
   "cell_type": "code",
   "execution_count": 1,
   "id": "3f586e83",
   "metadata": {},
   "outputs": [
    {
     "data": {
      "text/plain": [
       "72"
      ]
     },
     "execution_count": 1,
     "metadata": {},
     "output_type": "execute_result"
    }
   ],
   "source": [
    "(lambda x,y:x*y)(8,9)"
   ]
  },
  {
   "cell_type": "code",
   "execution_count": 6,
   "id": "da514c38",
   "metadata": {},
   "outputs": [
    {
     "name": "stdout",
     "output_type": "stream",
     "text": [
      "enter nametimothy\n",
      "correctusername\n"
     ]
    }
   ],
   "source": [
    "name = input('enter name')\n",
    "if name[0].upper:\n",
    "    print('correctusername')\n",
    "else:\n",
    "    print('incorrectusername')"
   ]
  },
  {
   "cell_type": "code",
   "execution_count": 7,
   "id": "04930723",
   "metadata": {},
   "outputs": [
    {
     "name": "stdout",
     "output_type": "stream",
     "text": [
      "please provide a nameTimothy\n"
     ]
    },
    {
     "data": {
      "text/plain": [
       "'Timothy starts with an upper case letter'"
      ]
     },
     "execution_count": 7,
     "metadata": {},
     "output_type": "execute_result"
    }
   ],
   "source": [
    "(lambda name:f'{name} starts with an upper case letter' if name[0] == name[0].upper() else f'{name} does not start with and an uppercase letter')(input('please provide a name'))"
   ]
  },
  {
   "cell_type": "code",
   "execution_count": 8,
   "id": "be2dc5cb",
   "metadata": {},
   "outputs": [
    {
     "name": "stdout",
     "output_type": "stream",
     "text": [
      "please provide your passwordtimothyolagboye5\n"
     ]
    },
    {
     "data": {
      "text/plain": [
       "'invalid password'"
      ]
     },
     "execution_count": 8,
     "metadata": {},
     "output_type": "execute_result"
    }
   ],
   "source": [
    "(lambda password:f'{password} correctpassword' if password[0] == password[0].upper() and len[password] >= 10 and password[9] <= 5 else f'invalid password')(input('please provide your password'))"
   ]
  },
  {
   "cell_type": "code",
   "execution_count": 12,
   "id": "f2c36459",
   "metadata": {},
   "outputs": [
    {
     "name": "stdout",
     "output_type": "stream",
     "text": [
      "please provide your passwordj ysjmtu rnhryte\n"
     ]
    },
    {
     "data": {
      "text/plain": [
       "'j ysjmtu rnhryte invalid password'"
      ]
     },
     "execution_count": 12,
     "metadata": {},
     "output_type": "execute_result"
    }
   ],
   "source": [
    "(lambda password:f'{password} correctpassword' if password[0] == password[0].upper() and len(password) >= 10 and password[-1] == '0' or password[-1] == '1' or password[-1] == '2' or password[-1] == '3' or password[-1] == '4' or password[-1] == '5'  else f'{password} invalid password')(input('please provide your password'))"
   ]
  },
  {
   "cell_type": "code",
   "execution_count": 13,
   "id": "8bfa6d93",
   "metadata": {},
   "outputs": [
    {
     "name": "stdout",
     "output_type": "stream",
     "text": [
      "['BINGO', 'BARRY', 'ROCKY', 'ROOTLESS', 'SHANKO']\n"
     ]
    }
   ],
   "source": [
    "dogs = ['bingo', 'barry', 'rocky','rootless','shanko']\n",
    "\n",
    "update_dogs= list(map(lambda x: str.upper(x),dogs))\n",
    "print(update_dogs)"
   ]
  },
  {
   "cell_type": "code",
   "execution_count": 20,
   "id": "e9037b97",
   "metadata": {},
   "outputs": [
    {
     "name": "stdout",
     "output_type": "stream",
     "text": [
      "[56, 71, 62, 61, 57, 50, 67, 75, 53, 74, 59, 57, 75, 63, 72, 71, 54, 68, 59, 59, 56, 70, 60, 71, 68, 45, 72, 53, 55, 53, 72, 63, 54, 73, 55, 46, 51, 47, 48, 69, 51, 70, 79, 65, 49, 48, 71, 80, 61, 52, 63, 46, 67, 46, 74, 68, 64, 69, 58, 63, 54, 80, 62, 50, 74, 63, 71, 78, 50, 76]\n",
      "[7, 8, 7, 7, 7, 7, 8, 8, 7, 8, 7, 7, 8, 7, 8, 8, 7, 8, 7, 7, 7, 8, 7, 8, 8, 6, 8, 7, 7, 7, 8, 7, 7, 8, 7, 6, 7, 6, 6, 8, 7, 8, 8, 8, 7, 6, 8, 8, 7, 7, 7, 6, 8, 6, 8, 8, 8, 8, 7, 7, 7, 8, 7, 7, 8, 7, 8, 8, 7, 8]\n"
     ]
    }
   ],
   "source": [
    "import random\n",
    "numbers = []\n",
    "counter=1\n",
    "while counter <= 70:\n",
    "    num = random.randint(45,80)\n",
    "    numbers.append(num)\n",
    "    counter += 1\n",
    "print(numbers)\n",
    "import math\n",
    "update_numbers=list(map(lambda x: math.isqrt(x),numbers))\n",
    "print(update_numbers)"
   ]
  },
  {
   "cell_type": "code",
   "execution_count": 22,
   "id": "6682832f",
   "metadata": {},
   "outputs": [
    {
     "name": "stdout",
     "output_type": "stream",
     "text": [
      "[56, 71, 62, 61, 57, 50, 67, 75, 53, 74, 59, 57, 75, 63, 72, 71, 54, 68, 59, 59, 56, 70, 60, 71, 68, 45, 72, 53, 55, 53, 72, 63, 54, 73, 55, 46, 51, 47, 48, 69, 51, 70, 79, 65, 49, 48, 71, 80, 61, 52, 63, 46, 67, 46, 74, 68, 64, 69, 58, 63, 54, 80, 62, 50, 74, 63, 71, 78, 50, 76]\n"
     ]
    }
   ],
   "source": [
    "update_numbers=list(filter(lambda x: x >= 40,numbers))\n",
    "print(update_numbers)"
   ]
  },
  {
   "cell_type": "code",
   "execution_count": null,
   "id": "b3fdbf60",
   "metadata": {},
   "outputs": [],
   "source": []
  }
 ],
 "metadata": {
  "kernelspec": {
   "display_name": "Python 3 (ipykernel)",
   "language": "python",
   "name": "python3"
  },
  "language_info": {
   "codemirror_mode": {
    "name": "ipython",
    "version": 3
   },
   "file_extension": ".py",
   "mimetype": "text/x-python",
   "name": "python",
   "nbconvert_exporter": "python",
   "pygments_lexer": "ipython3",
   "version": "3.9.12"
  }
 },
 "nbformat": 4,
 "nbformat_minor": 5
}
