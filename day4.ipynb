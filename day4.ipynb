{
 "cells": [
  {
   "cell_type": "code",
   "execution_count": 2,
   "id": "aac136cd",
   "metadata": {},
   "outputs": [],
   "source": [
    "import math\n"
   ]
  },
  {
   "cell_type": "code",
   "execution_count": 3,
   "id": "9c31cb04",
   "metadata": {},
   "outputs": [
    {
     "name": "stdout",
     "output_type": "stream",
     "text": [
      "['__doc__', '__loader__', '__name__', '__package__', '__spec__', 'acos', 'acosh', 'asin', 'asinh', 'atan', 'atan2', 'atanh', 'ceil', 'comb', 'copysign', 'cos', 'cosh', 'degrees', 'dist', 'e', 'erf', 'erfc', 'exp', 'expm1', 'fabs', 'factorial', 'floor', 'fmod', 'frexp', 'fsum', 'gamma', 'gcd', 'hypot', 'inf', 'isclose', 'isfinite', 'isinf', 'isnan', 'isqrt', 'lcm', 'ldexp', 'lgamma', 'log', 'log10', 'log1p', 'log2', 'modf', 'nan', 'nextafter', 'perm', 'pi', 'pow', 'prod', 'radians', 'remainder', 'sin', 'sinh', 'sqrt', 'tan', 'tanh', 'tau', 'trunc', 'ulp']\n"
     ]
    }
   ],
   "source": [
    "print(dir(math))"
   ]
  },
  {
   "cell_type": "code",
   "execution_count": 4,
   "id": "adfe0dab",
   "metadata": {},
   "outputs": [
    {
     "name": "stdout",
     "output_type": "stream",
     "text": [
      "18\n",
      "19\n",
      "4.323771501825692\n"
     ]
    }
   ],
   "source": [
    "number = 18.695\n",
    "print(math.floor(number))\n",
    "print(math.ceil(number))\n",
    "print(math.sqrt(number))"
   ]
  },
  {
   "cell_type": "code",
   "execution_count": 6,
   "id": "9bc02270",
   "metadata": {},
   "outputs": [
    {
     "name": "stdout",
     "output_type": "stream",
     "text": [
      "['Counter', 'Decimal', 'Fraction', 'NormalDist', 'StatisticsError', '__all__', '__builtins__', '__cached__', '__doc__', '__file__', '__loader__', '__name__', '__package__', '__spec__', '_coerce', '_convert', '_exact_ratio', '_fail_neg', '_find_lteq', '_find_rteq', '_isfinite', '_normal_dist_inv_cdf', '_ss', '_sum', 'bisect_left', 'bisect_right', 'erf', 'exp', 'fabs', 'fmean', 'fsum', 'geometric_mean', 'groupby', 'harmonic_mean', 'hypot', 'itemgetter', 'log', 'math', 'mean', 'median', 'median_grouped', 'median_high', 'median_low', 'mode', 'multimode', 'numbers', 'pstdev', 'pvariance', 'quantiles', 'random', 'sqrt', 'stdev', 'tau', 'variance']\n"
     ]
    }
   ],
   "source": [
    "import statistics as stat\n",
    "print(dir(stat))"
   ]
  },
  {
   "cell_type": "markdown",
   "id": "52449de6",
   "metadata": {},
   "source": []
  },
  {
   "cell_type": "code",
   "execution_count": 7,
   "id": "81b35f4c",
   "metadata": {},
   "outputs": [
    {
     "name": "stdout",
     "output_type": "stream",
     "text": [
      "54.54545454545455\n",
      "56\n",
      "600.0\n",
      "489.6727272727273\n"
     ]
    }
   ],
   "source": [
    "numbers = [76,56,45,23,79,80,74,24,60,56,27]\n",
    "print(stat.mean(numbers))\n",
    "print(stat.mode(numbers))\n",
    "print(stat.fsum(numbers))\n",
    "print(stat.variance(numbers))"
   ]
  },
  {
   "cell_type": "code",
   "execution_count": 8,
   "id": "46b06f6d",
   "metadata": {},
   "outputs": [
    {
     "name": "stdout",
     "output_type": "stream",
     "text": [
      "['BPF', 'LOG4', 'NV_MAGICCONST', 'RECIP_BPF', 'Random', 'SG_MAGICCONST', 'SystemRandom', 'TWOPI', '_Sequence', '_Set', '__all__', '__builtins__', '__cached__', '__doc__', '__file__', '__loader__', '__name__', '__package__', '__spec__', '_accumulate', '_acos', '_bisect', '_ceil', '_cos', '_e', '_exp', '_floor', '_inst', '_log', '_os', '_pi', '_random', '_repeat', '_sha512', '_sin', '_sqrt', '_test', '_test_generator', '_urandom', '_warn', 'betavariate', 'choice', 'choices', 'expovariate', 'gammavariate', 'gauss', 'getrandbits', 'getstate', 'lognormvariate', 'normalvariate', 'paretovariate', 'randbytes', 'randint', 'random', 'randrange', 'sample', 'seed', 'setstate', 'shuffle', 'triangular', 'uniform', 'vonmisesvariate', 'weibullvariate']\n"
     ]
    }
   ],
   "source": [
    "import random as rn\n",
    "print(dir(rn))"
   ]
  },
  {
   "cell_type": "code",
   "execution_count": 10,
   "id": "2f9b0f12",
   "metadata": {},
   "outputs": [
    {
     "name": "stdout",
     "output_type": "stream",
     "text": [
      "[23, 56, 76, 27, 80, 56, 60, 79, 74, 45, 24]\n"
     ]
    }
   ],
   "source": [
    "rn.shuffle(numbers)\n",
    "print(numbers)"
   ]
  },
  {
   "cell_type": "code",
   "execution_count": 11,
   "id": "2d22234d",
   "metadata": {},
   "outputs": [
    {
     "name": "stdout",
     "output_type": "stream",
     "text": [
      "79\n"
     ]
    }
   ],
   "source": [
    "print(rn.choice(numbers))"
   ]
  },
  {
   "cell_type": "code",
   "execution_count": 13,
   "id": "14aa5ac4",
   "metadata": {},
   "outputs": [
    {
     "data": {
      "text/plain": [
       "15"
      ]
     },
     "execution_count": 13,
     "metadata": {},
     "output_type": "execute_result"
    }
   ],
   "source": [
    "rn.randint(14,25)"
   ]
  },
  {
   "cell_type": "markdown",
   "id": "66aba921",
   "metadata": {},
   "source": [
    "# conditional statement"
   ]
  },
  {
   "cell_type": "code",
   "execution_count": 15,
   "id": "ac3ba42b",
   "metadata": {},
   "outputs": [
    {
     "name": "stdout",
     "output_type": "stream",
     "text": [
      "please provide a number8\n",
      "congratulations you have provided a number greater than zero\n"
     ]
    }
   ],
   "source": [
    "num = int(input('please provide a number'))\n",
    "if num >0:\n",
    "    print('congratulations you have provided a number greater than zero')"
   ]
  },
  {
   "cell_type": "code",
   "execution_count": 20,
   "id": "81f44023",
   "metadata": {},
   "outputs": [
    {
     "name": "stdout",
     "output_type": "stream",
     "text": [
      "please provide your passowrdTimothyolagboye\n",
      "valid password\n"
     ]
    }
   ],
   "source": [
    "password = input('please provide your passowrd')\n",
    "if password[0] == password[0].upper() and len(password)>=8:\n",
    "    print('valid password')\n",
    "else:\n",
    "    print('invalid password:the first letter must be in uppercase and length must be 8 and above')"
   ]
  },
  {
   "cell_type": "code",
   "execution_count": 21,
   "id": "93358952",
   "metadata": {},
   "outputs": [
    {
     "name": "stdout",
     "output_type": "stream",
     "text": [
      "student nametimo\n",
      "student height1.65\n",
      "you are eligible to take part in swimming, discus and long jump\n"
     ]
    }
   ],
   "source": [
    "name = input('student name')\n",
    "height = float(input('student height'))\n",
    "if height >=1.50 and height <=1.60:\n",
    "    print('you are eligible to take part in swimming only')\n",
    "else:\n",
    "    if height >=1.61 and height <=1.70:\n",
    "        print('you are eligible to take part in swimming, discus and long jump')\n",
    "    else:\n",
    "        print('you are eligible to take part in sports')"
   ]
  },
  {
   "cell_type": "code",
   "execution_count": 22,
   "id": "5c3441e5",
   "metadata": {},
   "outputs": [
    {
     "name": "stdout",
     "output_type": "stream",
     "text": [
      "student nametimothy\n",
      "student height1.57\n",
      "you are eligible to take part in swimming only\n"
     ]
    }
   ],
   "source": [
    "name = input('student name')\n",
    "height = float(input('student height'))\n",
    "if height >=1.50 and height <=1.60:\n",
    "    print('you are eligible to take part in swimming only')\n",
    "elif height >=1.61 and height <1.70:\n",
    "      print('you are eligible to take part in swimming, discus and long jump')\n",
    "else:\n",
    "     print('you are eligible to take part in sports')\n",
    "    "
   ]
  },
  {
   "cell_type": "code",
   "execution_count": 24,
   "id": "a8268a48",
   "metadata": {},
   "outputs": [
    {
     "name": "stdout",
     "output_type": "stream",
     "text": [
      "please provide a number-2\n",
      "the number you provided is negative\n"
     ]
    }
   ],
   "source": [
    "num = int(input('please provide a number'))\n",
    "if num>0: \n",
    "    print('you have provided a positive number')\n",
    "elif num == 0:\n",
    "    print ('the number you provided is zero')\n",
    "elif num < 0:\n",
    "    print ('the number you provided is negative')\n"
   ]
  },
  {
   "cell_type": "code",
   "execution_count": null,
   "id": "b24b539a",
   "metadata": {},
   "outputs": [],
   "source": []
  }
 ],
 "metadata": {
  "kernelspec": {
   "display_name": "Python 3 (ipykernel)",
   "language": "python",
   "name": "python3"
  },
  "language_info": {
   "codemirror_mode": {
    "name": "ipython",
    "version": 3
   },
   "file_extension": ".py",
   "mimetype": "text/x-python",
   "name": "python",
   "nbconvert_exporter": "python",
   "pygments_lexer": "ipython3",
   "version": "3.9.12"
  }
 },
 "nbformat": 4,
 "nbformat_minor": 5
}
