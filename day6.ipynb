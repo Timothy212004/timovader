{
 "cells": [
  {
   "cell_type": "code",
   "execution_count": 3,
   "id": "db56ce12",
   "metadata": {},
   "outputs": [
    {
     "name": "stdout",
     "output_type": "stream",
     "text": [
      "welcome to early code\n"
     ]
    }
   ],
   "source": [
    "def greet():\n",
    "    print ('welcome to early code')\n",
    "greet()"
   ]
  },
  {
   "cell_type": "code",
   "execution_count": 4,
   "id": "2c4a7677",
   "metadata": {},
   "outputs": [
    {
     "name": "stdout",
     "output_type": "stream",
     "text": [
      "welcome to early code\n"
     ]
    }
   ],
   "source": [
    "def greet():# a function without a parameter or arguement\n",
    "    print('welcome to early code')\n",
    "greet()"
   ]
  },
  {
   "cell_type": "code",
   "execution_count": 6,
   "id": "e301f434",
   "metadata": {},
   "outputs": [
    {
     "name": "stdout",
     "output_type": "stream",
     "text": [
      "welcome to early code simeon\n"
     ]
    }
   ],
   "source": [
    "def greet2(name):\n",
    "    print(f'welcome to early code {name}')\n",
    "greet2('simeon')\n"
   ]
  },
  {
   "cell_type": "code",
   "execution_count": 7,
   "id": "1563fc50",
   "metadata": {},
   "outputs": [
    {
     "name": "stdout",
     "output_type": "stream",
     "text": [
      "welcome to early code ade\n"
     ]
    }
   ],
   "source": [
    "greet2('ade')"
   ]
  },
  {
   "cell_type": "code",
   "execution_count": 14,
   "id": "3761d9c6",
   "metadata": {},
   "outputs": [
    {
     "name": "stdout",
     "output_type": "stream",
     "text": [
      "NAME:ojo\n",
      " GENDER:male\n",
      " AGE:35\n",
      "    \n",
      "congratulations you are eligible to vote\n"
     ]
    }
   ],
   "source": [
    "def checkvote(name,gender,age):\n",
    "    print(f'''NAME:{name}\n",
    " GENDER:{gender}\n",
    " AGE:{age}\n",
    "    ''')\n",
    "    if age >= 18:\n",
    "            print('congratulations you are eligible to vote')\n",
    "    else:\n",
    "            print('opssss sorry you are not eligible to vote')\n",
    "checkvote('ojo','male',35)"
   ]
  },
  {
   "cell_type": "code",
   "execution_count": 15,
   "id": "967cdc13",
   "metadata": {},
   "outputs": [
    {
     "name": "stdout",
     "output_type": "stream",
     "text": [
      "NAME:faith\n",
      " GENDER:female\n",
      " AGE:14\n",
      "    \n",
      "opssss sorry you are not eligible to vote\n"
     ]
    }
   ],
   "source": [
    "checkvote('faith','female',14)"
   ]
  },
  {
   "cell_type": "code",
   "execution_count": 17,
   "id": "dcf4cd76",
   "metadata": {},
   "outputs": [
    {
     "name": "stdout",
     "output_type": "stream",
     "text": [
      "NAME:ojo\n",
      " GENDER:male\n",
      " AGE:20\n",
      "    \n",
      "congratulations you are eligible to vote\n"
     ]
    }
   ],
   "source": [
    "def checkvote(name,gender,age = 18):\n",
    "    print(f'''NAME:{name}\n",
    " GENDER:{gender}\n",
    " AGE:{age}\n",
    "    ''')\n",
    "    if age >= 18:\n",
    "            print('congratulations you are eligible to vote')\n",
    "    else:\n",
    "            print('opssss sorry you are not eligible to vote')\n",
    "checkvote('ojo','male',20)"
   ]
  },
  {
   "cell_type": "code",
   "execution_count": 20,
   "id": "e5ef27b3",
   "metadata": {},
   "outputs": [
    {
     "name": "stdout",
     "output_type": "stream",
     "text": [
      "<class 'tuple'>\n",
      "average of 10 numbers which are (24, 52, 58, 96, 32, 98, 65, 52, 14, 21) is 51.2\n"
     ]
    }
   ],
   "source": [
    "def average(*num):\n",
    "    print(type(num))\n",
    "    print(f'average of {len(num)} numbers which are {num} is {sum(num)/len(num)}')\n",
    "average(24,52,58,96,32,98,65,52,14,21)"
   ]
  },
  {
   "cell_type": "code",
   "execution_count": 21,
   "id": "0751ac7d",
   "metadata": {},
   "outputs": [
    {
     "name": "stdout",
     "output_type": "stream",
     "text": [
      "<class 'tuple'>\n",
      "average of 5 numbers which are (87, 80, 56, 98, 52) is 74.6\n"
     ]
    }
   ],
   "source": [
    "numbers = [87,80,56,98,52]\n",
    "average(*numbers)"
   ]
  },
  {
   "cell_type": "code",
   "execution_count": 22,
   "id": "ee15bfe9",
   "metadata": {},
   "outputs": [
    {
     "name": "stdout",
     "output_type": "stream",
     "text": [
      "<class 'dict'>\n",
      "name::: paul\n",
      "gender::: male\n",
      "age::: 45\n"
     ]
    }
   ],
   "source": [
    "def records(**details):\n",
    "    print(type(details))\n",
    "    for key,values in details.items():\n",
    "        print(f'{key}::: {values}')\n",
    "records(name='paul',gender='male',age=45)"
   ]
  },
  {
   "cell_type": "code",
   "execution_count": 24,
   "id": "8c608079",
   "metadata": {},
   "outputs": [
    {
     "name": "stdout",
     "output_type": "stream",
     "text": [
      "player one score:6\n",
      "player two score:6\n",
      "its a draw!!!!!!!!!!!!\n",
      "player one score:8\n",
      "player two score:8\n",
      "its a draw!!!!!!!!!!!!\n",
      "player one score:5\n",
      "player two score:4\n",
      "player one wins!!!!!!!!!!!\n",
      "player one score:11\n",
      "player two score:4\n",
      "player one wins!!!!!!!!!!!\n",
      "player one score:2\n",
      "player two score:3\n",
      "player two wins!!!!!!!!!!!\n",
      "player one score:6\n",
      "player two score:6\n",
      "its a draw!!!!!!!!!!!!\n",
      "player one score:7\n",
      "player two score:8\n",
      "player two wins!!!!!!!!!!!\n",
      "player one score:11\n",
      "player two score:4\n",
      "player one wins!!!!!!!!!!!\n",
      "player one score:7\n",
      "player two score:9\n",
      "player two wins!!!!!!!!!!!\n",
      "player one score:9\n",
      "player two score:5\n",
      "player one wins!!!!!!!!!!!\n",
      "player one is the overall winner by a total score of 26\n"
     ]
    }
   ],
   "source": [
    "def roll_a_dice():\n",
    "    import random as rn\n",
    "    playeronescore = 0\n",
    "    playertwoscore = 0\n",
    "    for i in range(1,11):\n",
    "        dice1 =rn.randint(1,6) + rn.randint(1,6)\n",
    "        dice2 =rn.randint(1,6) + rn.randint(1,6)\n",
    "        if dice1 >dice2:\n",
    "            print(f'player one score:{dice1}')\n",
    "            print(f'player two score:{dice2}')\n",
    "            print('player one wins!!!!!!!!!!!')\n",
    "            playeronescore = playeronescore + 5\n",
    "        elif dice2 > dice1:\n",
    "            print(f'player one score:{dice1}')\n",
    "            print(f'player two score:{dice2}')\n",
    "            print('player two wins!!!!!!!!!!!')\n",
    "            playertwoscore = playertwoscore + 5\n",
    "        else:\n",
    "            print(f'player one score:{dice1}')\n",
    "            print(f'player two score:{dice2}')\n",
    "            print('its a draw!!!!!!!!!!!!')\n",
    "            playeronescore = playeronescore + 2\n",
    "            playertwoscore = playertwoscore + 2\n",
    "    if playeronescore > playertwoscore:\n",
    "       print(f'player one is the overall winner by a total score of {playeronescore}')\n",
    "    elif playertwoscore > playeronescore:\n",
    "       print(f'player two is the overall winner by a total score of {playertwoscore}')\n",
    "    else:\n",
    "       print('it is a draw !!!!!!!!!! as both players have the same score')\n",
    "roll_a_dice()\n",
    "        \n",
    "              "
   ]
  },
  {
   "cell_type": "code",
   "execution_count": 1,
   "id": "59f8f516",
   "metadata": {},
   "outputs": [
    {
     "name": "stdout",
     "output_type": "stream",
     "text": [
      "player one score:6\n",
      "player two score:4\n",
      "player one wins!!!!!!!!!!!\n",
      "player one score:10\n",
      "player two score:10\n",
      "its a draw!!!!!!!!!!!!\n",
      "player one score:7\n",
      "player two score:8\n",
      "player two wins!!!!!!!!!!!\n",
      "player one score:8\n",
      "player two score:9\n",
      "player two wins!!!!!!!!!!!\n",
      "player one score:10\n",
      "player two score:7\n",
      "player one wins!!!!!!!!!!!\n",
      "player one score:9\n",
      "player two score:4\n",
      "player one wins!!!!!!!!!!!\n",
      "player one score:8\n",
      "player two score:9\n",
      "player two wins!!!!!!!!!!!\n",
      "player one score:8\n",
      "player two score:6\n",
      "player one wins!!!!!!!!!!!\n",
      "player one score:9\n",
      "player two score:7\n",
      "player one wins!!!!!!!!!!!\n",
      "player one score:6\n",
      "player two score:9\n",
      "player two wins!!!!!!!!!!!\n",
      "player one is the overall winner by a total score of 27\n"
     ]
    }
   ],
   "source": [
    "def roll_a_dice():\n",
    "    import random as rn\n",
    "    playeronescore = 0\n",
    "    playertwoscore = 0\n",
    "    for i in range(1,11):\n",
    "        dice1 =rn.randint(1,6) + rn.randint(1,6)\n",
    "        dice2 =rn.randint(1,6) + rn.randint(1,6)\n",
    "        if dice1 >dice2:\n",
    "            print(f'player one score:{dice1}')\n",
    "            print(f'player two score:{dice2}')\n",
    "            print('player one wins!!!!!!!!!!!')\n",
    "            playeronescore = playeronescore + 5\n",
    "        elif dice2 > dice1:\n",
    "            print(f'player one score:{dice1}')\n",
    "            print(f'player two score:{dice2}')\n",
    "            print('player two wins!!!!!!!!!!!')\n",
    "            playertwoscore = playertwoscore + 5\n",
    "        else:\n",
    "            print(f'player one score:{dice1}')\n",
    "            print(f'player two score:{dice2}')\n",
    "            print('its a draw!!!!!!!!!!!!')\n",
    "            playeronescore = playeronescore + 2\n",
    "            playertwoscore = playertwoscore + 2\n",
    "    if playeronescore > playertwoscore:\n",
    "       print(f'player one is the overall winner by a total score of {playeronescore}')\n",
    "    elif playertwoscore > playeronescore:\n",
    "       print(f'player two is the overall winner by a total score of {playertwoscore}')\n",
    "    else:\n",
    "       print('it is a draw !!!!!!!!!! as both players have the same score')\n",
    "roll_a_dice()\n",
    "        "
   ]
  },
  {
   "cell_type": "code",
   "execution_count": null,
   "id": "b4fd3ab6",
   "metadata": {},
   "outputs": [],
   "source": []
  }
 ],
 "metadata": {
  "kernelspec": {
   "display_name": "Python 3 (ipykernel)",
   "language": "python",
   "name": "python3"
  },
  "language_info": {
   "codemirror_mode": {
    "name": "ipython",
    "version": 3
   },
   "file_extension": ".py",
   "mimetype": "text/x-python",
   "name": "python",
   "nbconvert_exporter": "python",
   "pygments_lexer": "ipython3",
   "version": "3.9.12"
  }
 },
 "nbformat": 4,
 "nbformat_minor": 5
}
