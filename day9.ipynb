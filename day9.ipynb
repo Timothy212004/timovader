{
 "cells": [
  {
   "cell_type": "markdown",
   "id": "67bb8ec6",
   "metadata": {},
   "source": [
    "ERROR HANDLING\n"
   ]
  },
  {
   "cell_type": "code",
   "execution_count": 1,
   "id": "5e00cd28",
   "metadata": {},
   "outputs": [
    {
     "name": "stdout",
     "output_type": "stream",
     "text": [
      "enter first number5\n",
      "enter second number5.5\n",
      "you have encountered one or more errors\n"
     ]
    }
   ],
   "source": [
    "try:\n",
    "    num1 = int(input('enter first number'))\n",
    "    num2 = int(input('enter second number'))\n",
    "    print(num1 + num2)\n",
    "except:\n",
    "    print('you have encountered one or more errors')"
   ]
  },
  {
   "cell_type": "code",
   "execution_count": 4,
   "id": "c942cd75",
   "metadata": {},
   "outputs": [
    {
     "name": "stdout",
     "output_type": "stream",
     "text": [
      "enter first number4\n",
      "enter second number5.6\n",
      "you have entered the wrong value only integer value is expected\n"
     ]
    }
   ],
   "source": [
    "try:\n",
    "    num1 = int(input('enter first number'))\n",
    "    num2 = int(input('enter second number'))\n",
    "    print(num1 + num2)\n",
    "except ValueError:\n",
    "    print('you have entered the wrong value only integer value is expected')\n",
    "except:\n",
    "    print('you have encountered one or more errors')"
   ]
  },
  {
   "cell_type": "code",
   "execution_count": 5,
   "id": "cf50a442",
   "metadata": {},
   "outputs": [
    {
     "name": "stdout",
     "output_type": "stream",
     "text": [
      "enter first number7\n",
      "enter second number8\n",
      "choose the operation you want to program(+,-,/,*)**\n",
      "5764801\n",
      "program has ended\n"
     ]
    }
   ],
   "source": [
    "try:\n",
    "    num1 = int(input('enter first number'))\n",
    "    num2 = int(input('enter second number'))\n",
    "    option = input('choose the operation you want to program(+,-,/,*)')\n",
    "    if option == '+':\n",
    "        print(f'{num1} + {num2} = {num1 + num2}')\n",
    "    if option == '-':\n",
    "        print(f'{num1} - {num2} = {num1 - num2}')\n",
    "    if option == '/':\n",
    "        print(f'{num1} / {num2} = {num1 / num2}')\n",
    "    if option == '*':\n",
    "        print(f'{num1} * {num2} = {num1 * num2}')\n",
    "except ValueError:\n",
    "    print('you have entered the wrong value only integer value is expected')\n",
    "except ZeroDivisionError:\n",
    "    print('sorry you can not divide a number by 0')\n",
    "except:\n",
    "    print('you have encountered one or more errors')  \n",
    "else:\n",
    "    print(num1 ** num2)\n",
    "finally:\n",
    "    print('program has ended')"
   ]
  },
  {
   "cell_type": "code",
   "execution_count": null,
   "id": "9a732608",
   "metadata": {},
   "outputs": [],
   "source": []
  }
 ],
 "metadata": {
  "kernelspec": {
   "display_name": "Python 3 (ipykernel)",
   "language": "python",
   "name": "python3"
  },
  "language_info": {
   "codemirror_mode": {
    "name": "ipython",
    "version": 3
   },
   "file_extension": ".py",
   "mimetype": "text/x-python",
   "name": "python",
   "nbconvert_exporter": "python",
   "pygments_lexer": "ipython3",
   "version": "3.9.12"
  }
 },
 "nbformat": 4,
 "nbformat_minor": 5
}
