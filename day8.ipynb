{
 "cells": [
  {
   "cell_type": "markdown",
   "id": "0e8b2724",
   "metadata": {},
   "source": [
    "class and object"
   ]
  },
  {
   "cell_type": "code",
   "execution_count": 1,
   "id": "e228c6e9",
   "metadata": {},
   "outputs": [
    {
     "data": {
      "text/plain": [
       "'mammal'"
      ]
     },
     "execution_count": 1,
     "metadata": {},
     "output_type": "execute_result"
    }
   ],
   "source": [
    "class dog:\n",
    "    attr1 = 'mammal'\n",
    "    attr2 = 'bark'\n",
    "rocky = dog()\n",
    "rocky.attr1"
   ]
  },
  {
   "cell_type": "code",
   "execution_count": 2,
   "id": "8426a743",
   "metadata": {},
   "outputs": [
    {
     "name": "stdout",
     "output_type": "stream",
     "text": [
      "i belong to the family of mammal\n"
     ]
    }
   ],
   "source": [
    "class dog:\n",
    "    attr1 = 'mammal'\n",
    "    attr2 = 'bark'\n",
    "    def family(self):\n",
    "        print(f'i belong to the family of {self.attr1}')\n",
    "rocky = dog()\n",
    "rocky.family()"
   ]
  },
  {
   "cell_type": "code",
   "execution_count": 7,
   "id": "dd1fd8cf",
   "metadata": {},
   "outputs": [
    {
     "name": "stdout",
     "output_type": "stream",
     "text": [
      "BOOM!!!!!!!!!!!!!!!!!!!!!!!!!!!!!!!!!!\n",
      "audi f5 has started\n",
      "None\n",
      "please select a gear:5\n",
      "gear placed on 5\n",
      "None\n",
      "nitro engagged\n",
      "None\n",
      "BOOM!!!!!!!!!!!!!!!!!!!!!!!!!!!!!!!!!!\n",
      "audi f5 has stopped\n",
      "game over!!!!!!!!!!!!!!!!!!!!!!!!!!!!!\n",
      "None\n"
     ]
    }
   ],
   "source": [
    "class carsimulation:\n",
    "    def __init__(self,brand,model,color,year,speed):\n",
    "        self.brand = brand\n",
    "        self.model = model\n",
    "        self.color = color\n",
    "        self.year  = year\n",
    "        self.speed = speed\n",
    "    def start(self):\n",
    "        print('BOOM!!!!!!!!!!!!!!!!!!!!!!!!!!!!!!!!!!')\n",
    "        print(f'{self.brand} {self.model} has started')\n",
    "    def gear(self):\n",
    "        option=int(input('please select a gear:'))\n",
    "        if option == 1:\n",
    "            print('gear placed on 1')\n",
    "        elif option == 2:\n",
    "            print('gear placed on 2')\n",
    "        elif option == 3:\n",
    "            print('gear placed on 3')\n",
    "        elif option == 4:\n",
    "            print('gear placed on 4')\n",
    "        elif option == 5:\n",
    "            print('gear placed on 5')\n",
    "        elif option == 6:\n",
    "            print('gear placed on reverse')\n",
    "        else:\n",
    "            print('invalid gear option')\n",
    "    def accelerate(self,option):\n",
    "        if option ==1:\n",
    "            print('nitro engagged')\n",
    "        elif option ==2:\n",
    "            print('nitro disengagged')\n",
    "        else:\n",
    "            print('invalid nitro option')\n",
    "    def stop(self):\n",
    "        print('BOOM!!!!!!!!!!!!!!!!!!!!!!!!!!!!!!!!!!')\n",
    "        print(f'{self.brand} {self.model} has stopped')\n",
    "        print('game over!!!!!!!!!!!!!!!!!!!!!!!!!!!!!')\n",
    "car1 = carsimulation('audi','f5','black',2018,250)\n",
    "print(car1.start())\n",
    "print(car1.gear())\n",
    "print(car1.accelerate(1))\n",
    "print(car1.stop())"
   ]
  },
  {
   "cell_type": "code",
   "execution_count": 6,
   "id": "ff24c63c",
   "metadata": {},
   "outputs": [
    {
     "name": "stdout",
     "output_type": "stream",
     "text": [
      "BOOM!!!!!!!!!!!!!!!!!!!!!!!!!!!!!!!!!!\n",
      "lambogini mercelado has started\n",
      "None\n",
      "please select a gear:3\n",
      "gear placed on 3\n",
      "None\n",
      "nitro engagged\n",
      "None\n",
      "roofopened\n",
      "None\n",
      "BOOM!!!!!!!!!!!!!!!!!!!!!!!!!!!!!!!!!!\n",
      "lambogini mercelado has stopped\n",
      "game over!!!!!!!!!!!!!!!!!!!!!!!!!!!!!\n",
      "None\n"
     ]
    }
   ],
   "source": [
    "class finalsimulation(carsimulation):\n",
    "    def openroof(self,option):\n",
    "        if option ==1:\n",
    "            print('roofopened')\n",
    "        elif option ==2:\n",
    "            print('roofclosed')\n",
    "        else:\n",
    "            print('invalid roof option')\n",
    "car2 = finalsimulation('lambogini','mercelado','yellow',2021,450)\n",
    "print(car2.start())\n",
    "print(car2.gear())\n",
    "print(car2.accelerate(1))\n",
    "print(car2.openroof(1))\n",
    "print(car2.stop())"
   ]
  },
  {
   "cell_type": "markdown",
   "id": "3c066c11",
   "metadata": {},
   "source": [
    "INHERITANCE\n"
   ]
  },
  {
   "cell_type": "code",
   "execution_count": null,
   "id": "47aa2e46",
   "metadata": {},
   "outputs": [],
   "source": []
  }
 ],
 "metadata": {
  "kernelspec": {
   "display_name": "Python 3 (ipykernel)",
   "language": "python",
   "name": "python3"
  },
  "language_info": {
   "codemirror_mode": {
    "name": "ipython",
    "version": 3
   },
   "file_extension": ".py",
   "mimetype": "text/x-python",
   "name": "python",
   "nbconvert_exporter": "python",
   "pygments_lexer": "ipython3",
   "version": "3.9.12"
  }
 },
 "nbformat": 4,
 "nbformat_minor": 5
}
