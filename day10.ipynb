{
 "cells": [
  {
   "cell_type": "code",
   "execution_count": 1,
   "id": "c416bd84",
   "metadata": {},
   "outputs": [],
   "source": [
    "import datetime"
   ]
  },
  {
   "cell_type": "code",
   "execution_count": 2,
   "id": "10eb9bd0",
   "metadata": {},
   "outputs": [
    {
     "name": "stdout",
     "output_type": "stream",
     "text": [
      "['MAXYEAR', 'MINYEAR', '__all__', '__builtins__', '__cached__', '__doc__', '__file__', '__loader__', '__name__', '__package__', '__spec__', 'date', 'datetime', 'datetime_CAPI', 'sys', 'time', 'timedelta', 'timezone', 'tzinfo']\n"
     ]
    }
   ],
   "source": [
    "print(dir(datetime))"
   ]
  },
  {
   "cell_type": "code",
   "execution_count": 3,
   "id": "0be30bd2",
   "metadata": {},
   "outputs": [
    {
     "data": {
      "text/plain": [
       "datetime.date(2022, 5, 25)"
      ]
     },
     "execution_count": 3,
     "metadata": {},
     "output_type": "execute_result"
    }
   ],
   "source": [
    "date1= datetime.date(2022,5,25)\n",
    "date1"
   ]
  },
  {
   "cell_type": "code",
   "execution_count": 4,
   "id": "eaf9d1c9",
   "metadata": {},
   "outputs": [
    {
     "name": "stdout",
     "output_type": "stream",
     "text": [
      "2022\n",
      "5\n",
      "25\n",
      "2\n",
      "3\n"
     ]
    }
   ],
   "source": [
    "print(date1.year)\n",
    "print(date1.month)\n",
    "print(date1.day)\n",
    "print(date1.weekday())\n",
    "print(date1.isoweekday())"
   ]
  },
  {
   "cell_type": "code",
   "execution_count": 6,
   "id": "2e3d74d1",
   "metadata": {},
   "outputs": [
    {
     "data": {
      "text/plain": [
       "datetime.date(2022, 9, 6)"
      ]
     },
     "execution_count": 6,
     "metadata": {},
     "output_type": "execute_result"
    }
   ],
   "source": [
    "currentdate=datetime.date.today()\n",
    "currentdate"
   ]
  },
  {
   "cell_type": "code",
   "execution_count": 7,
   "id": "87a9be6d",
   "metadata": {},
   "outputs": [
    {
     "data": {
      "text/plain": [
       "'06 September, 2022'"
      ]
     },
     "execution_count": 7,
     "metadata": {},
     "output_type": "execute_result"
    }
   ],
   "source": [
    "#strftime:this used for the modification of date and time\n",
    "currentdate.strftime('%d %B, %Y')"
   ]
  },
  {
   "cell_type": "code",
   "execution_count": 8,
   "id": "21e43878",
   "metadata": {},
   "outputs": [
    {
     "data": {
      "text/plain": [
       "datetime.time(10, 45, 55, 45568)"
      ]
     },
     "execution_count": 8,
     "metadata": {},
     "output_type": "execute_result"
    }
   ],
   "source": [
    "time1 = datetime.time(10,45,55,45568)\n",
    "time1"
   ]
  },
  {
   "cell_type": "code",
   "execution_count": 10,
   "id": "0a723414",
   "metadata": {},
   "outputs": [
    {
     "name": "stdout",
     "output_type": "stream",
     "text": [
      "10\n",
      "45\n",
      "55\n",
      "45568\n"
     ]
    }
   ],
   "source": [
    "print(time1.hour)\n",
    "print(time1.minute)\n",
    "print(time1.second)\n",
    "print(time1.microsecond)"
   ]
  },
  {
   "cell_type": "code",
   "execution_count": 11,
   "id": "b2ed0e9d",
   "metadata": {},
   "outputs": [
    {
     "data": {
      "text/plain": [
       "datetime.time(16, 46, 5, 486573)"
      ]
     },
     "execution_count": 11,
     "metadata": {},
     "output_type": "execute_result"
    }
   ],
   "source": [
    "currenttime = datetime.datetime.now().time()\n",
    "currenttime"
   ]
  },
  {
   "cell_type": "code",
   "execution_count": 13,
   "id": "7685eed1",
   "metadata": {},
   "outputs": [
    {
     "data": {
      "text/plain": [
       "'04::46::05::486573'"
      ]
     },
     "execution_count": 13,
     "metadata": {},
     "output_type": "execute_result"
    }
   ],
   "source": [
    "currenttime.strftime('%I::%M::%S::%f')"
   ]
  },
  {
   "cell_type": "code",
   "execution_count": 14,
   "id": "cc35d6c8",
   "metadata": {},
   "outputs": [
    {
     "data": {
      "text/plain": [
       "datetime.datetime(2022, 9, 6, 16, 51, 46, 459263)"
      ]
     },
     "execution_count": 14,
     "metadata": {},
     "output_type": "execute_result"
    }
   ],
   "source": [
    "current_date_time = datetime.datetime.now()\n",
    "current_date_time "
   ]
  },
  {
   "cell_type": "code",
   "execution_count": 16,
   "id": "0520d87f",
   "metadata": {},
   "outputs": [
    {
     "name": "stdout",
     "output_type": "stream",
     "text": [
      "please provide your date of birth in this format(d/m/y)2/3/2003\n",
      "2003-03-02\n"
     ]
    }
   ],
   "source": [
    "dateofbirth = input('please provide your date of birth in this format(d/m/y)')\n",
    "cdate = datetime.datetime.strptime(dateofbirth,'%d/%m/%Y').date()\n",
    "print(cdate)"
   ]
  },
  {
   "cell_type": "code",
   "execution_count": 19,
   "id": "8cb89004",
   "metadata": {},
   "outputs": [
    {
     "name": "stdout",
     "output_type": "stream",
     "text": [
      "GOOD DAY ALL MR ALI AND HIS FAMILY IS INVITING US TO THEIR 10TH YEAR ANNIVERSARY COMING UP ON THE 20 November, 2022 BY 04PM PROMPT\n"
     ]
    }
   ],
   "source": [
    "alidate = datetime.datetime(2022,11,20,16,0,0,0)\n",
    "print(\"GOOD DAY ALL MR ALI AND HIS FAMILY IS INVITING US TO THEIR 10TH YEAR ANNIVERSARY COMING UP ON THE\",alidate.strftime('%d %B, %Y BY %I%p PROMPT'))"
   ]
  },
  {
   "cell_type": "code",
   "execution_count": 20,
   "id": "41cee329",
   "metadata": {},
   "outputs": [
    {
     "data": {
      "text/plain": [
       "datetime.timedelta(days=7128)"
      ]
     },
     "execution_count": 20,
     "metadata": {},
     "output_type": "execute_result"
    }
   ],
   "source": [
    "currentdate - cdate"
   ]
  },
  {
   "cell_type": "code",
   "execution_count": 21,
   "id": "f9ae4088",
   "metadata": {},
   "outputs": [
    {
     "data": {
      "text/plain": [
       "datetime.date(2023, 2, 28)"
      ]
     },
     "execution_count": 21,
     "metadata": {},
     "output_type": "execute_result"
    }
   ],
   "source": [
    "td = datetime.timedelta(weeks = 25)\n",
    "current + td"
   ]
  },
  {
   "cell_type": "code",
   "execution_count": 23,
   "id": "fc652c7e",
   "metadata": {},
   "outputs": [
    {
     "name": "stdout",
     "output_type": "stream",
     "text": [
      "2003-03-02\n"
     ]
    }
   ],
   "source": [
    "print(cdate)"
   ]
  },
  {
   "cell_type": "code",
   "execution_count": 2,
   "id": "0c80d6b9",
   "metadata": {},
   "outputs": [
    {
     "name": "stdout",
     "output_type": "stream",
     "text": [
      "please provide your appointment date in this format(d/m/y)21/3/22\n"
     ]
    },
    {
     "ename": "NameError",
     "evalue": "name 'datetime' is not defined",
     "output_type": "error",
     "traceback": [
      "\u001b[1;31m---------------------------------------------------------------------------\u001b[0m",
      "\u001b[1;31mNameError\u001b[0m                                 Traceback (most recent call last)",
      "Input \u001b[1;32mIn [2]\u001b[0m, in \u001b[0;36m<cell line: 2>\u001b[1;34m()\u001b[0m\n\u001b[0;32m      1\u001b[0m strappdate \u001b[38;5;241m=\u001b[39m\u001b[38;5;28minput\u001b[39m(\u001b[38;5;124m'\u001b[39m\u001b[38;5;124mplease provide your appointment date in this format(d/m/y)\u001b[39m\u001b[38;5;124m'\u001b[39m)\n\u001b[1;32m----> 2\u001b[0m appdate \u001b[38;5;241m=\u001b[39m \u001b[43mdatetime\u001b[49m\u001b[38;5;241m.\u001b[39mdatetime\u001b[38;5;241m.\u001b[39mstrptime(strappdate, \u001b[38;5;124m'\u001b[39m\u001b[38;5;124m%\u001b[39m\u001b[38;5;124mY/\u001b[39m\u001b[38;5;124m%\u001b[39m\u001b[38;5;124mm/\u001b[39m\u001b[38;5;132;01m%d\u001b[39;00m\u001b[38;5;124m'\u001b[39m)\u001b[38;5;241m.\u001b[39mdate\n\u001b[0;32m      3\u001b[0m currentdate\u001b[38;5;241m=\u001b[39m datetime\u001b[38;5;241m.\u001b[39mdate\u001b[38;5;241m.\u001b[39mtoday()\n\u001b[0;32m      4\u001b[0m difference \u001b[38;5;241m=\u001b[39m appdate\u001b[38;5;241m-\u001b[39mcurrentdate\n",
      "\u001b[1;31mNameError\u001b[0m: name 'datetime' is not defined"
     ]
    }
   ],
   "source": [
    "strappdate =input('please provide your appointment date in this format(d/m/y)')\n",
    "appdate = datetime.datetime.strptime(strappdate, '%Y/%m/%d').date\n",
    "currentdate= datetime.date.today()\n",
    "difference = appdate-currentdate\n",
    "trnweeks = diff.days//7\n",
    "trndays = diff.days % 7\n",
    "print(f'hey you have {trnweeks} weeks and {trndays} days until your appontment')"
   ]
  },
  {
   "cell_type": "code",
   "execution_count": null,
   "id": "53243684",
   "metadata": {},
   "outputs": [],
   "source": []
  },
  {
   "cell_type": "code",
   "execution_count": null,
   "id": "c466ed00",
   "metadata": {},
   "outputs": [],
   "source": []
  },
  {
   "cell_type": "code",
   "execution_count": null,
   "id": "cd245bf1",
   "metadata": {},
   "outputs": [],
   "source": []
  }
 ],
 "metadata": {
  "kernelspec": {
   "display_name": "Python 3 (ipykernel)",
   "language": "python",
   "name": "python3"
  },
  "language_info": {
   "codemirror_mode": {
    "name": "ipython",
    "version": 3
   },
   "file_extension": ".py",
   "mimetype": "text/x-python",
   "name": "python",
   "nbconvert_exporter": "python",
   "pygments_lexer": "ipython3",
   "version": "3.9.12"
  }
 },
 "nbformat": 4,
 "nbformat_minor": 5
}
