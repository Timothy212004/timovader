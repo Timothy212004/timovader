{
 "cells": [
  {
   "cell_type": "code",
   "execution_count": 8,
   "id": "f2ee7b9c",
   "metadata": {},
   "outputs": [
    {
     "name": "stdout",
     "output_type": "stream",
     "text": [
      "dlrow olleh\n"
     ]
    }
   ],
   "source": [
    "def reverse(x):\n",
    "    return x[::-1]\n",
    "print(reverse('hello world'))"
   ]
  },
  {
   "cell_type": "code",
   "execution_count": 13,
   "id": "a0f119fa",
   "metadata": {},
   "outputs": [
    {
     "data": {
      "text/plain": [
       "[1, 4, 2, 5, 3, 6, 8]"
      ]
     },
     "execution_count": 13,
     "metadata": {},
     "output_type": "execute_result"
    }
   ],
   "source": [
    "def unique(num):\n",
    "    x = []\n",
    "    for i in num:\n",
    "        if i not in x:\n",
    "            x.append(i)\n",
    "    return(x)\n",
    "unique([1,4,4,2,5,5,3,6,5,8])"
   ]
  },
  {
   "cell_type": "code",
   "execution_count": 14,
   "id": "140ba1c6",
   "metadata": {},
   "outputs": [
    {
     "data": {
      "text/plain": [
       "[58, 96, 52, 36, 98, 74, 58, 80, 56]"
      ]
     },
     "execution_count": 14,
     "metadata": {},
     "output_type": "execute_result"
    }
   ],
   "source": [
    "def even(num):\n",
    "    evenlist = []\n",
    "    for i in num:\n",
    "        if i % 2 == 0:\n",
    "            evenlist.append(i)\n",
    "    return(evenlist)\n",
    "even([47,58,96,52,36,98,74,58,89,80,56,95])"
   ]
  },
  {
   "cell_type": "code",
   "execution_count": 16,
   "id": "558f81f7",
   "metadata": {},
   "outputs": [
    {
     "name": "stdout",
     "output_type": "stream",
     "text": [
      "[1, 4, 9, 16, 25, 36, 49, 64, 81, 100, 121, 144, 169, 196, 225, 256, 289, 324, 361, 400, 441, 484, 529, 576, 625, 676, 729, 784, 841, 900]\n"
     ]
    }
   ],
   "source": [
    "def square():\n",
    "    output = []\n",
    "    for i in range(1,31):\n",
    "        output.append(i**2)\n",
    "    print(output)\n",
    "square()"
   ]
  },
  {
   "cell_type": "code",
   "execution_count": 18,
   "id": "8e268a0c",
   "metadata": {},
   "outputs": [
    {
     "name": "stdout",
     "output_type": "stream",
     "text": [
      "square root after specific millseconds\n",
      "4.0\n",
      "10.0\n",
      "158.42979517754858\n"
     ]
    }
   ],
   "source": [
    "from time import sleep\n",
    "import math\n",
    "def delay(fn, ms,*args):\n",
    "    sleep(ms / 1000)\n",
    "    return fn(*args)\n",
    "print(\"square root after specific millseconds\")\n",
    "print(delay(lambda x: math.sqrt(x), 100, 16))\n",
    "print(delay(lambda x: math.sqrt(x),1000,100))\n",
    "print(delay(lambda x: math.sqrt(x),2000,25100))"
   ]
  },
  {
   "cell_type": "code",
   "execution_count": 19,
   "id": "e776e01f",
   "metadata": {},
   "outputs": [],
   "source": [
    "#file handling"
   ]
  },
  {
   "cell_type": "code",
   "execution_count": 20,
   "id": "de1ceff3",
   "metadata": {},
   "outputs": [],
   "source": [
    "#access mode are as follows "
   ]
  },
  {
   "cell_type": "code",
   "execution_count": 21,
   "id": "28d6e4e7",
   "metadata": {},
   "outputs": [],
   "source": [
    "# w : write"
   ]
  },
  {
   "cell_type": "code",
   "execution_count": 22,
   "id": "13dbada6",
   "metadata": {},
   "outputs": [],
   "source": [
    "# r : read"
   ]
  },
  {
   "cell_type": "code",
   "execution_count": 23,
   "id": "f41eaddd",
   "metadata": {},
   "outputs": [],
   "source": [
    "# a : append"
   ]
  },
  {
   "cell_type": "code",
   "execution_count": 24,
   "id": "51fc99bb",
   "metadata": {},
   "outputs": [],
   "source": [
    "# r+ :read&write"
   ]
  },
  {
   "cell_type": "code",
   "execution_count": 27,
   "id": "83be512e",
   "metadata": {},
   "outputs": [],
   "source": [
    "file = open('demo.txt','w')\n",
    "file.write('''#write a python function to reverse a string.\n",
    "#write a python function that a list and returns a new list with unique elements of the first list.\n",
    "#write a python fucton to print the even numbers from a given list.\n",
    "''')\n",
    "file.close()"
   ]
  },
  {
   "cell_type": "code",
   "execution_count": 28,
   "id": "2f479409",
   "metadata": {},
   "outputs": [
    {
     "name": "stdout",
     "output_type": "stream",
     "text": [
      "#write a python function to reverse a string.\n",
      "#write a python function that a list and returns a new list with unique elements of the first list.\n",
      "#write a python fucton to print the even numbers from a given list.\n",
      "\n"
     ]
    }
   ],
   "source": [
    "file = open('demo.txt','r')\n",
    "print(file.read())\n",
    "file.close()"
   ]
  },
  {
   "cell_type": "code",
   "execution_count": 33,
   "id": "503b64ff",
   "metadata": {},
   "outputs": [
    {
     "ename": "FileNotFoundError",
     "evalue": "[Errno 2] No such file or directory: 'day7'",
     "output_type": "error",
     "traceback": [
      "\u001b[1;31m---------------------------------------------------------------------------\u001b[0m",
      "\u001b[1;31mFileNotFoundError\u001b[0m                         Traceback (most recent call last)",
      "Input \u001b[1;32mIn [33]\u001b[0m, in \u001b[0;36m<cell line: 1>\u001b[1;34m()\u001b[0m\n\u001b[1;32m----> 1\u001b[0m file \u001b[38;5;241m=\u001b[39m \u001b[38;5;28;43mopen\u001b[39;49m\u001b[43m(\u001b[49m\u001b[38;5;124;43m'\u001b[39;49m\u001b[38;5;124;43mday7\u001b[39;49m\u001b[38;5;124;43m'\u001b[39;49m\u001b[43m,\u001b[49m\u001b[38;5;124;43m'\u001b[39;49m\u001b[38;5;124;43mr\u001b[39;49m\u001b[38;5;124;43m'\u001b[39;49m\u001b[43m)\u001b[49m\n\u001b[0;32m      2\u001b[0m \u001b[38;5;28mprint\u001b[39m(file\u001b[38;5;241m.\u001b[39mread())\n\u001b[0;32m      3\u001b[0m file\u001b[38;5;241m.\u001b[39mclose\n",
      "\u001b[1;31mFileNotFoundError\u001b[0m: [Errno 2] No such file or directory: 'day7'"
     ]
    }
   ],
   "source": [
    "file = open('day7','r')\n",
    "print(file.read())\n",
    "file.close"
   ]
  },
  {
   "cell_type": "code",
   "execution_count": 34,
   "id": "73625611",
   "metadata": {},
   "outputs": [],
   "source": [
    "file = open('demo.txt','a')\n",
    "file.write('\\n#write a python function to create and print a list where the values are square of numbers between 1 and 31')\n",
    "file.close()"
   ]
  },
  {
   "cell_type": "code",
   "execution_count": 35,
   "id": "a2be09b0",
   "metadata": {},
   "outputs": [
    {
     "name": "stdout",
     "output_type": "stream",
     "text": [
      "#write a python function to reverse a string.\n",
      "#write a python function that a list and returns a new list with unique elements of the first list.\n",
      "#write a python fucton to print the even numbers from a given list.\n",
      "\n",
      "#write a python function to create and print a list where the values are square of numbers between 1 and 31\n"
     ]
    }
   ],
   "source": [
    "file = open('demo.txt','r+')\n",
    "print(file.read())\n",
    "file.write('\\#write a python function that invokes a given function after a specific milliseconds.')\n",
    "file.close()"
   ]
  },
  {
   "cell_type": "code",
   "execution_count": null,
   "id": "0c86eae5",
   "metadata": {},
   "outputs": [],
   "source": []
  }
 ],
 "metadata": {
  "kernelspec": {
   "display_name": "Python 3 (ipykernel)",
   "language": "python",
   "name": "python3"
  },
  "language_info": {
   "codemirror_mode": {
    "name": "ipython",
    "version": 3
   },
   "file_extension": ".py",
   "mimetype": "text/x-python",
   "name": "python",
   "nbconvert_exporter": "python",
   "pygments_lexer": "ipython3",
   "version": "3.9.12"
  }
 },
 "nbformat": 4,
 "nbformat_minor": 5
}
