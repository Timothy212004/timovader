{
 "cells": [
  {
   "cell_type": "markdown",
   "id": "13316009",
   "metadata": {},
   "source": [
    "loops"
   ]
  },
  {
   "cell_type": "code",
   "execution_count": 1,
   "id": "5a465479",
   "metadata": {},
   "outputs": [
    {
     "name": "stdout",
     "output_type": "stream",
     "text": [
      "ppp\n",
      "yyy\n",
      "ttt\n",
      "hhh\n",
      "ooo\n",
      "nnn\n"
     ]
    }
   ],
   "source": [
    "word = 'python'\n",
    "for char in word:\n",
    "    print(char * 3)"
   ]
  },
  {
   "cell_type": "code",
   "execution_count": 3,
   "id": "090ddec5",
   "metadata": {},
   "outputs": [
    {
     "name": "stdout",
     "output_type": "stream",
     "text": [
      "ppp yyy ttt hhh ooo nnn "
     ]
    }
   ],
   "source": [
    "word = 'python'\n",
    "for char in word:\n",
    "    print(char * 3,end=' ')\n",
    "    "
   ]
  },
  {
   "cell_type": "code",
   "execution_count": 8,
   "id": "044ff30e",
   "metadata": {},
   "outputs": [
    {
     "name": "stdout",
     "output_type": "stream",
     "text": [
      "congratulations 081559876543 your regissration is succeessful\n",
      "congratulations 09087654987 your regissration is succeessful\n",
      "congratulations 07045698778 your regissration is succeessful\n",
      "congratulations 0912348956789 your regissration is succeessful\n",
      "congratulations 0904756284727 your regissration is succeessful\n"
     ]
    }
   ],
   "source": [
    "phonenumber = ['081559876543','09087654987','07045698778','0912348956789','0904756284727']\n",
    "for numbers in phonenumber:\n",
    "    print(f'congratulations {numbers} your regissration is succeessful')"
   ]
  },
  {
   "cell_type": "code",
   "execution_count": 1,
   "id": "9392cec4",
   "metadata": {},
   "outputs": [
    {
     "name": "stdout",
     "output_type": "stream",
     "text": [
      "please provide your namefaith\n",
      "record found,your score in the following subjects (math,english,chemistry,biology and agric) are as follows [90, 90, 95, 96, 99]\n"
     ]
    }
   ],
   "source": [
    "student_records = {\n",
    "    'samuel':[98,48,55,60,90],\n",
    "    'hope':[78,77,80,92,65],\n",
    "    'jane':[70,100,66,78,90],\n",
    "    'john':[68,92,77,70,78],\n",
    "    'faith':[90,90,95,96,99]\n",
    "}\n",
    "name = input('please provide your name')\n",
    "for key in student_records:\n",
    "    if name == key:\n",
    "        print(f'record found,your score in the following subjects (math,english,chemistry,biology and agric) are as follows {student_records[key]}')"
   ]
  },
  {
   "cell_type": "code",
   "execution_count": 14,
   "id": "028faf62",
   "metadata": {},
   "outputs": [
    {
     "name": "stdout",
     "output_type": "stream",
     "text": [
      "please provide your namejane\n",
      "record found,your score in the following subjects (math,english,chemistry,biology and agric) are as follows [70, 100, 66, 78, 90]\n",
      "record not found\n"
     ]
    }
   ],
   "source": [
    "student_records = {\n",
    "    'samuel':[98,48,55,60,90],\n",
    "    'hope':[78,77,80,92,65],\n",
    "    'jane':[70,100,66,78,90],\n",
    "    'john':[68,92,77,70,78],\n",
    "    'faith':[90,90,95,96,99]    \n",
    "}\n",
    "name = input('please provide your name')\n",
    "for key in student_records:\n",
    "    if name == key:\n",
    "        print(f'record found,your score in the following subjects (math,english,chemistry,biology and agric) are as follows {student_records[key]}')\n",
    "else:\n",
    "    print('record not found')"
   ]
  },
  {
   "cell_type": "code",
   "execution_count": 15,
   "id": "70caf0b7",
   "metadata": {},
   "outputs": [
    {
     "name": "stdout",
     "output_type": "stream",
     "text": [
      "please provide your namejane\n",
      "record found,your score in the following subjects (math,english,chemistry,biology and agric) are as follows [70, 100, 66, 78, 90]\n"
     ]
    }
   ],
   "source": [
    "student_records = {\n",
    "    'samuel':[98,48,55,60,90],\n",
    "    'hope':[78,77,80,92,65],\n",
    "    'jane':[70,100,66,78,90],\n",
    "    'john':[68,92,77,70,78],\n",
    "    'faith':[90,90,95,96,99]\n",
    "}\n",
    "name = input('please provide your name')\n",
    "for key in student_records:\n",
    "    if name == key:\n",
    "        print(f'record found,your score in the following subjects (math,english,chemistry,biology and agric) are as follows {student_records[key]}')\n",
    "        break\n",
    "else:\n",
    "    print('record not found')"
   ]
  },
  {
   "cell_type": "code",
   "execution_count": 2,
   "id": "765b8104",
   "metadata": {},
   "outputs": [
    {
     "name": "stdout",
     "output_type": "stream",
     "text": [
      "please provide your namefaith\n",
      "record found,your score in the following subjects (math,english,chemistry,biology and agric) are as follows [90, 90, 95, 96, 99]\n",
      "record not found\n"
     ]
    }
   ],
   "source": [
    "student_records = {\n",
    "    'samuel':[98,48,55,60,90],\n",
    "    'hope':[78,77,80,92,65],\n",
    "    'jane':[70,100,66,78,90],\n",
    "    'john':[68,92,77,70,78],\n",
    "    'faith':[90,90,95,96,99]\n",
    "}\n",
    "name = input('please provide your name')\n",
    "for key in student_records:\n",
    "    if name == key:\n",
    "        print(f'record found,your score in the following subjects (math,english,chemistry,biology and agric) are as follows {student_records[key]}')\n",
    "        continue\n",
    "        \n",
    "else:\n",
    "    print('record not found')"
   ]
  },
  {
   "cell_type": "code",
   "execution_count": 3,
   "id": "53e54260",
   "metadata": {},
   "outputs": [
    {
     "name": "stdout",
     "output_type": "stream",
     "text": [
      "please provide a number:6\n",
      "the sqrt of 6 is 2.449489742783178\n",
      "please provide a number:7\n",
      "the sqrt of 7 is 2.6457513110645907\n",
      "please provide a number:5\n",
      "the sqrt of 5 is 2.23606797749979\n",
      "please provide a number:4\n",
      "the sqrt of 4 is 2.0\n",
      "please provide a number:8\n",
      "the sqrt of 8 is 2.8284271247461903\n",
      "please provide a number:0\n"
     ]
    }
   ],
   "source": [
    "import math\n",
    "num = int(input('please provide a number:'))\n",
    "counter = 1\n",
    "while num!= 0:5\n",
    "    print(f'the sqrt of {num} is {math.sqrt(num)}')\n",
    "    counter = counter + 1\n",
    "    num = int(input('please provide a number:'))"
   ]
  },
  {
   "cell_type": "code",
   "execution_count": 22,
   "id": "d8942f0c",
   "metadata": {},
   "outputs": [
    {
     "name": "stdout",
     "output_type": "stream",
     "text": [
      "[36, 40, 44, 36, 38, 33, 29, 31, 26, 39, 34, 40, 48, 43, 33, 29, 26, 30, 27, 30, 46, 38, 34, 43, 34, 43, 45, 34, 27, 32, 42, 30, 25, 42, 37, 44, 44, 29, 47, 39, 39, 39, 27, 39, 25, 32, 40, 36, 31, 39]\n"
     ]
    }
   ],
   "source": [
    "number = []\n",
    "import random\n",
    "counter = 1\n",
    "while counter <= 50:\n",
    "    num = random.randint(25,48)\n",
    "    number.append(num)\n",
    "    counter +=1\n",
    "print(number)\n"
   ]
  },
  {
   "cell_type": "code",
   "execution_count": 23,
   "id": "ecb4ebe6",
   "metadata": {},
   "outputs": [
    {
     "name": "stdout",
     "output_type": "stream",
     "text": [
      "your deck of cards is:::::\n",
      "3 of spade\n",
      "9 of spade\n",
      "12 of diamond\n",
      "4 of heart\n",
      "2 of club\n"
     ]
    }
   ],
   "source": [
    "#IMPORTING THE NEEDED MODULES\n",
    "import itertools,random\n",
    "#MAKING A DECK OF CARDS\n",
    "deck=list(itertools.product(range(1,14),['spade','heart','diamond','club']))\n",
    "#SHUFFLING THE OF CARDS\n",
    "random.shuffle(deck)\n",
    "#PRINTING OUT FIVE RANDOM CARDS FROM THE DECK\n",
    "print('your deck of cards is:::::')\n",
    "for i in range(1,6):\n",
    "    print(deck[i][0], 'of',deck[i][1])"
   ]
  },
  {
   "cell_type": "code",
   "execution_count": null,
   "id": "7121e2a3",
   "metadata": {},
   "outputs": [],
   "source": []
  }
 ],
 "metadata": {
  "kernelspec": {
   "display_name": "Python 3 (ipykernel)",
   "language": "python",
   "name": "python3"
  },
  "language_info": {
   "codemirror_mode": {
    "name": "ipython",
    "version": 3
   },
   "file_extension": ".py",
   "mimetype": "text/x-python",
   "name": "python",
   "nbconvert_exporter": "python",
   "pygments_lexer": "ipython3",
   "version": "3.9.12"
  }
 },
 "nbformat": 4,
 "nbformat_minor": 5
}
