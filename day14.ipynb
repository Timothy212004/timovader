{
 "cells": [
  {
   "cell_type": "markdown",
   "id": "16a7cea9",
   "metadata": {},
   "source": [
    "1.characters in list can be altered while in turple the can not be altered\n",
    "2.integer string float\n",
    "3.\n",
    "4.it is the conversion of data types to different data type\n",
    "5.functions are commands that give a code a specific task or function"
   ]
  },
  {
   "cell_type": "code",
   "execution_count": 2,
   "id": "03845d34",
   "metadata": {},
   "outputs": [],
   "source": [
    "import pymysql"
   ]
  },
  {
   "cell_type": "code",
   "execution_count": 3,
   "id": "a172670f",
   "metadata": {},
   "outputs": [],
   "source": [
    "mydb = pymysql.connect(\n",
    "     host = 'localhost',\n",
    "     user = 'root',\n",
    "     password = '212004',\n",
    "     database = 'studentmanagementsystem'\n",
    ")\n",
    "mycursor = mydb.cursor()"
   ]
  },
  {
   "cell_type": "code",
   "execution_count": 10,
   "id": "0a5e24bb",
   "metadata": {},
   "outputs": [
    {
     "name": "stdout",
     "output_type": "stream",
     "text": [
      "(247,)\n"
     ]
    }
   ],
   "source": [
    "mycursor.execute('select count(age) as result from studentper')\n",
    "for x in mycursor:\n",
    "    print(x)"
   ]
  },
  {
   "cell_type": "code",
   "execution_count": 6,
   "id": "76bd2db2",
   "metadata": {},
   "outputs": [
    {
     "name": "stdout",
     "output_type": "stream",
     "text": [
      "(6,)\n"
     ]
    }
   ],
   "source": [
    "mycursor.execute('select count(distinct age) as result from studentper')\n",
    "for x in mycursor:\n",
    "    print(x)"
   ]
  },
  {
   "cell_type": "code",
   "execution_count": 7,
   "id": "3aea13bf",
   "metadata": {},
   "outputs": [
    {
     "name": "stdout",
     "output_type": "stream",
     "text": [
      "(Decimal('17127'),)\n"
     ]
    }
   ],
   "source": [
    "mycursor.execute('select sum(js11st) as result from studentper')\n",
    "for x in mycursor:\n",
    "    print(x)"
   ]
  },
  {
   "cell_type": "code",
   "execution_count": 9,
   "id": "6808f81b",
   "metadata": {},
   "outputs": [
    {
     "name": "stdout",
     "output_type": "stream",
     "text": [
      "('OTHER', Decimal('3979'))\n",
      "('at_home', Decimal('297'))\n",
      "('TEACHER', Decimal('1948'))\n",
      "('CIVIL SERVANT', Decimal('347'))\n",
      "('ADMIN', Decimal('5523'))\n",
      "('HEALTH', Decimal('2077'))\n",
      "('POLICE', Decimal('433'))\n",
      "('CRAFT', Decimal('689'))\n",
      "('BUSINESS', Decimal('1285'))\n",
      "('FARMER', Decimal('549'))\n"
     ]
    }
   ],
   "source": [
    "mycursor.execute('select Mjob,sum(js11st) as result from studentper group by Mjob')\n",
    "for x in mycursor:\n",
    "    print(x)"
   ]
  },
  {
   "cell_type": "code",
   "execution_count": 12,
   "id": "23e0ca43",
   "metadata": {},
   "outputs": [
    {
     "name": "stdout",
     "output_type": "stream",
     "text": [
      "(13, 247)\n"
     ]
    }
   ],
   "source": [
    "mycursor.execute('select age, count(age) as result from studentper')\n",
    "for x in mycursor:\n",
    "    print(x)"
   ]
  },
  {
   "cell_type": "code",
   "execution_count": 14,
   "id": "47735c4f",
   "metadata": {},
   "outputs": [
    {
     "name": "stdout",
     "output_type": "stream",
     "text": [
      "('OTHER', Decimal('68.6034'))\n",
      "('at_home', Decimal('74.2500'))\n",
      "('TEACHER', Decimal('69.5714'))\n",
      "('CIVIL SERVANT', Decimal('69.4000'))\n",
      "('ADMIN', Decimal('69.9114'))\n",
      "('HEALTH', Decimal('67.0000'))\n",
      "('POLICE', Decimal('72.1667'))\n",
      "('CRAFT', Decimal('68.9000'))\n",
      "('BUSINESS', Decimal('71.3889'))\n",
      "('FARMER', Decimal('68.6250'))\n"
     ]
    }
   ],
   "source": [
    "mycursor.execute('select Mjob,avg(js11st) as result from studentper group by Mjob')\n",
    "for x in mycursor:\n",
    "    print(x)"
   ]
  },
  {
   "cell_type": "code",
   "execution_count": 16,
   "id": "ba3a28aa",
   "metadata": {},
   "outputs": [
    {
     "name": "stdout",
     "output_type": "stream",
     "text": [
      "(Decimal('69.3401'),)\n"
     ]
    }
   ],
   "source": [
    "mycursor.execute('select avg(js11st) as result from studentper ')\n",
    "for x in mycursor:\n",
    "    print(x)"
   ]
  },
  {
   "cell_type": "code",
   "execution_count": 17,
   "id": "fcdefa31",
   "metadata": {},
   "outputs": [
    {
     "name": "stdout",
     "output_type": "stream",
     "text": [
      "(45,)\n"
     ]
    }
   ],
   "source": [
    "mycursor.execute('select min(js11st) as result from studentper ')\n",
    "for x in mycursor:\n",
    "    print(x)"
   ]
  },
  {
   "cell_type": "code",
   "execution_count": 18,
   "id": "f5b0842b",
   "metadata": {},
   "outputs": [
    {
     "name": "stdout",
     "output_type": "stream",
     "text": [
      "(98,)\n"
     ]
    }
   ],
   "source": [
    "mycursor.execute('select max(js11st) as result from studentper ')\n",
    "for x in mycursor:\n",
    "    print(x)"
   ]
  },
  {
   "cell_type": "code",
   "execution_count": 19,
   "id": "8e85aceb",
   "metadata": {},
   "outputs": [
    {
     "name": "stdout",
     "output_type": "stream",
     "text": [
      "('M', 13, 'RURAL', 'GT3', 'T', 1, 0, 'OTHER', 'OTHER', 'mother', 3, 2, 'no', 4, 'no', 1, 'yes', 'yes', 'no', 68, 69, 70, 71, 72, 69, 72, 70)\n"
     ]
    }
   ],
   "source": [
    "mycursor.execute('select * from studentper limit 1 ')\n",
    "for x in mycursor:\n",
    "    print(x)"
   ]
  },
  {
   "cell_type": "code",
   "execution_count": 21,
   "id": "aa16bc53",
   "metadata": {},
   "outputs": [
    {
     "name": "stdout",
     "output_type": "stream",
     "text": [
      "('M', 15, 'URBAN', 'LE3', 'A', 1, 0, 'OTHER', 'ADMIN', 'mother', 1, 0, 'no', 5, 'yes', 2, 'yes', 'no', 'no', 66, 76, 87, 82, 85, 69, 68, 81)\n",
      "('M', 15, 'RURAL', 'GT3', 'A', 0, 0, 'OTHER', 'CLEANER', 'mother', 3, 1, 'yes', 5, 'no', 2, 'no', 'no', 'yes', 69, 75, 71, 74, 81, 78, 72, 78)\n",
      "('M', 15, 'RURAL', 'GT3', 'A', 0, 0, 'OTHER', 'CLEANER', 'mother', 3, 1, 'no', 5, 'yes', 2, 'yes', 'no', 'yes', 70, 69, 68, 66, 62, 61, 68, 69)\n",
      "('F', 15, 'URBAN', 'LE3', 'T', 3, 2, 'HEALTH', 'ADMIN', 'father', 2, 1, 'yes', 3, 'yes', 2, 'yes', 'no', 'yes', 71, 72, 73, 75, 71, 70, 69, 70)\n"
     ]
    }
   ],
   "source": [
    "mycursor.execute('select * from studentper order by age desc limit 4 ')\n",
    "for x in mycursor:\n",
    "    print(x)"
   ]
  },
  {
   "cell_type": "code",
   "execution_count": null,
   "id": "6b7e2e8d",
   "metadata": {},
   "outputs": [],
   "source": []
  }
 ],
 "metadata": {
  "kernelspec": {
   "display_name": "Python 3 (ipykernel)",
   "language": "python",
   "name": "python3"
  },
  "language_info": {
   "codemirror_mode": {
    "name": "ipython",
    "version": 3
   },
   "file_extension": ".py",
   "mimetype": "text/x-python",
   "name": "python",
   "nbconvert_exporter": "python",
   "pygments_lexer": "ipython3",
   "version": "3.9.12"
  }
 },
 "nbformat": 4,
 "nbformat_minor": 5
}
